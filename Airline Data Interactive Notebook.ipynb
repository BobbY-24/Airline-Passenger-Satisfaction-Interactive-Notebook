{
 "cells": [
  {
   "cell_type": "code",
   "id": "initial_id",
   "metadata": {
    "collapsed": true,
    "ExecuteTime": {
     "end_time": "2025-08-28T20:19:49.380581Z",
     "start_time": "2025-08-28T20:19:48.282630Z"
    }
   },
   "source": [
    "# Core imports\n",
    "import pandas as pd\n",
    "import numpy as np\n",
    "import matplotlib.pyplot as plt\n",
    "import seaborn as sns\n",
    "import plotly.express as px\n",
    "import ipywidgets as widgets\n",
    "from IPython.display import display\n",
    "\n",
    "# Machine Learning\n",
    "from sklearn.model_selection import train_test_split\n",
    "from sklearn.preprocessing import OneHotEncoder\n",
    "from sklearn.compose import ColumnTransformer\n",
    "from sklearn.pipeline import Pipeline\n",
    "from sklearn.ensemble import RandomForestClassifier\n",
    "from sklearn.metrics import classification_report, confusion_matrix\n",
    "\n",
    "# Load dataset\n",
    "df = pd.read_csv('/Users/bobyan/Desktop/Kaggle Datasets/airline_satisfaction.csv')\n",
    "\n",
    "# Drop unnecessary columns\n",
    "df.drop(['Unnamed: 0', 'id'], axis=1, inplace=True, errors=\"ignore\")\n",
    "\n",
    "# Encode satisfaction as binary\n",
    "df['satisfaction'] = df['satisfaction'].replace({\n",
    "    \"satisfied\": 1,\n",
    "    \"neutral or dissatisfied\": 0\n",
    "})\n",
    "\n",
    "# Drop missing values\n",
    "df.dropna(inplace=True)\n",
    "\n",
    "df.head()\n"
   ],
   "outputs": [
    {
     "name": "stderr",
     "output_type": "stream",
     "text": [
      "/var/folders/tr/jd9dx4kd07d0dl3v_j__78bh0000gn/T/ipykernel_68605/224919650.py:25: FutureWarning: Downcasting behavior in `replace` is deprecated and will be removed in a future version. To retain the old behavior, explicitly call `result.infer_objects(copy=False)`. To opt-in to the future behavior, set `pd.set_option('future.no_silent_downcasting', True)`\n",
      "  df['satisfaction'] = df['satisfaction'].replace({\n"
     ]
    },
    {
     "data": {
      "text/plain": [
       "   Gender      Customer Type  Age   Type of Travel     Class  Flight Distance  \\\n",
       "0  Female     Loyal Customer   52  Business travel       Eco              160   \n",
       "1  Female     Loyal Customer   36  Business travel  Business             2863   \n",
       "2    Male  disloyal Customer   20  Business travel       Eco              192   \n",
       "3    Male     Loyal Customer   44  Business travel  Business             3377   \n",
       "4  Female     Loyal Customer   49  Business travel       Eco             1182   \n",
       "\n",
       "   Inflight wifi service  Departure/Arrival time convenient  \\\n",
       "0                      5                                  4   \n",
       "1                      1                                  1   \n",
       "2                      2                                  0   \n",
       "3                      0                                  0   \n",
       "4                      2                                  3   \n",
       "\n",
       "   Ease of Online booking  Gate location  ...  Inflight entertainment  \\\n",
       "0                       3              4  ...                       5   \n",
       "1                       3              1  ...                       4   \n",
       "2                       2              4  ...                       2   \n",
       "3                       0              2  ...                       1   \n",
       "4                       4              3  ...                       2   \n",
       "\n",
       "   On-board service  Leg room service  Baggage handling  Checkin service  \\\n",
       "0                 5                 5                 5                2   \n",
       "1                 4                 4                 4                3   \n",
       "2                 4                 1                 3                2   \n",
       "3                 1                 1                 1                3   \n",
       "4                 2                 2                 2                4   \n",
       "\n",
       "   Inflight service  Cleanliness  Departure Delay in Minutes  \\\n",
       "0                 5            5                          50   \n",
       "1                 4            5                           0   \n",
       "2                 2            2                           0   \n",
       "3                 1            4                           0   \n",
       "4                 2            4                           0   \n",
       "\n",
       "   Arrival Delay in Minutes  satisfaction  \n",
       "0                      44.0             1  \n",
       "1                       0.0             1  \n",
       "2                       0.0             0  \n",
       "3                       6.0             1  \n",
       "4                      20.0             1  \n",
       "\n",
       "[5 rows x 23 columns]"
      ],
      "text/html": [
       "<div>\n",
       "<style scoped>\n",
       "    .dataframe tbody tr th:only-of-type {\n",
       "        vertical-align: middle;\n",
       "    }\n",
       "\n",
       "    .dataframe tbody tr th {\n",
       "        vertical-align: top;\n",
       "    }\n",
       "\n",
       "    .dataframe thead th {\n",
       "        text-align: right;\n",
       "    }\n",
       "</style>\n",
       "<table border=\"1\" class=\"dataframe\">\n",
       "  <thead>\n",
       "    <tr style=\"text-align: right;\">\n",
       "      <th></th>\n",
       "      <th>Gender</th>\n",
       "      <th>Customer Type</th>\n",
       "      <th>Age</th>\n",
       "      <th>Type of Travel</th>\n",
       "      <th>Class</th>\n",
       "      <th>Flight Distance</th>\n",
       "      <th>Inflight wifi service</th>\n",
       "      <th>Departure/Arrival time convenient</th>\n",
       "      <th>Ease of Online booking</th>\n",
       "      <th>Gate location</th>\n",
       "      <th>...</th>\n",
       "      <th>Inflight entertainment</th>\n",
       "      <th>On-board service</th>\n",
       "      <th>Leg room service</th>\n",
       "      <th>Baggage handling</th>\n",
       "      <th>Checkin service</th>\n",
       "      <th>Inflight service</th>\n",
       "      <th>Cleanliness</th>\n",
       "      <th>Departure Delay in Minutes</th>\n",
       "      <th>Arrival Delay in Minutes</th>\n",
       "      <th>satisfaction</th>\n",
       "    </tr>\n",
       "  </thead>\n",
       "  <tbody>\n",
       "    <tr>\n",
       "      <th>0</th>\n",
       "      <td>Female</td>\n",
       "      <td>Loyal Customer</td>\n",
       "      <td>52</td>\n",
       "      <td>Business travel</td>\n",
       "      <td>Eco</td>\n",
       "      <td>160</td>\n",
       "      <td>5</td>\n",
       "      <td>4</td>\n",
       "      <td>3</td>\n",
       "      <td>4</td>\n",
       "      <td>...</td>\n",
       "      <td>5</td>\n",
       "      <td>5</td>\n",
       "      <td>5</td>\n",
       "      <td>5</td>\n",
       "      <td>2</td>\n",
       "      <td>5</td>\n",
       "      <td>5</td>\n",
       "      <td>50</td>\n",
       "      <td>44.0</td>\n",
       "      <td>1</td>\n",
       "    </tr>\n",
       "    <tr>\n",
       "      <th>1</th>\n",
       "      <td>Female</td>\n",
       "      <td>Loyal Customer</td>\n",
       "      <td>36</td>\n",
       "      <td>Business travel</td>\n",
       "      <td>Business</td>\n",
       "      <td>2863</td>\n",
       "      <td>1</td>\n",
       "      <td>1</td>\n",
       "      <td>3</td>\n",
       "      <td>1</td>\n",
       "      <td>...</td>\n",
       "      <td>4</td>\n",
       "      <td>4</td>\n",
       "      <td>4</td>\n",
       "      <td>4</td>\n",
       "      <td>3</td>\n",
       "      <td>4</td>\n",
       "      <td>5</td>\n",
       "      <td>0</td>\n",
       "      <td>0.0</td>\n",
       "      <td>1</td>\n",
       "    </tr>\n",
       "    <tr>\n",
       "      <th>2</th>\n",
       "      <td>Male</td>\n",
       "      <td>disloyal Customer</td>\n",
       "      <td>20</td>\n",
       "      <td>Business travel</td>\n",
       "      <td>Eco</td>\n",
       "      <td>192</td>\n",
       "      <td>2</td>\n",
       "      <td>0</td>\n",
       "      <td>2</td>\n",
       "      <td>4</td>\n",
       "      <td>...</td>\n",
       "      <td>2</td>\n",
       "      <td>4</td>\n",
       "      <td>1</td>\n",
       "      <td>3</td>\n",
       "      <td>2</td>\n",
       "      <td>2</td>\n",
       "      <td>2</td>\n",
       "      <td>0</td>\n",
       "      <td>0.0</td>\n",
       "      <td>0</td>\n",
       "    </tr>\n",
       "    <tr>\n",
       "      <th>3</th>\n",
       "      <td>Male</td>\n",
       "      <td>Loyal Customer</td>\n",
       "      <td>44</td>\n",
       "      <td>Business travel</td>\n",
       "      <td>Business</td>\n",
       "      <td>3377</td>\n",
       "      <td>0</td>\n",
       "      <td>0</td>\n",
       "      <td>0</td>\n",
       "      <td>2</td>\n",
       "      <td>...</td>\n",
       "      <td>1</td>\n",
       "      <td>1</td>\n",
       "      <td>1</td>\n",
       "      <td>1</td>\n",
       "      <td>3</td>\n",
       "      <td>1</td>\n",
       "      <td>4</td>\n",
       "      <td>0</td>\n",
       "      <td>6.0</td>\n",
       "      <td>1</td>\n",
       "    </tr>\n",
       "    <tr>\n",
       "      <th>4</th>\n",
       "      <td>Female</td>\n",
       "      <td>Loyal Customer</td>\n",
       "      <td>49</td>\n",
       "      <td>Business travel</td>\n",
       "      <td>Eco</td>\n",
       "      <td>1182</td>\n",
       "      <td>2</td>\n",
       "      <td>3</td>\n",
       "      <td>4</td>\n",
       "      <td>3</td>\n",
       "      <td>...</td>\n",
       "      <td>2</td>\n",
       "      <td>2</td>\n",
       "      <td>2</td>\n",
       "      <td>2</td>\n",
       "      <td>4</td>\n",
       "      <td>2</td>\n",
       "      <td>4</td>\n",
       "      <td>0</td>\n",
       "      <td>20.0</td>\n",
       "      <td>1</td>\n",
       "    </tr>\n",
       "  </tbody>\n",
       "</table>\n",
       "<p>5 rows × 23 columns</p>\n",
       "</div>"
      ]
     },
     "execution_count": 1,
     "metadata": {},
     "output_type": "execute_result"
    }
   ],
   "execution_count": 1
  },
  {
   "metadata": {
    "ExecuteTime": {
     "end_time": "2025-08-28T20:20:04.939573Z",
     "start_time": "2025-08-28T20:20:04.746533Z"
    }
   },
   "cell_type": "code",
   "source": [
    "# Dropdown to select a categorical feature for bar plot\n",
    "cat_dropdown = widgets.Dropdown(\n",
    "    options=df.select_dtypes(include=\"object\").columns.tolist(),\n",
    "    description=\"Category:\",\n",
    "    value=\"Customer Type\"\n",
    ")\n",
    "\n",
    "\n",
    "# Function to plot counts vs satisfaction\n",
    "def plot_cat_feature(feature):\n",
    "    fig = px.histogram(df, x=feature, color=\"satisfaction\", barmode=\"group\",\n",
    "                       title=f\"Satisfaction by {feature}\")\n",
    "    fig.show()\n",
    "\n",
    "\n",
    "widgets.interact(plot_cat_feature, feature=cat_dropdown)\n"
   ],
   "id": "3aa42484debfbf60",
   "outputs": [
    {
     "data": {
      "text/plain": [
       "interactive(children=(Dropdown(description='Category:', index=1, options=('Gender', 'Customer Type', 'Type of …"
      ],
      "application/vnd.jupyter.widget-view+json": {
       "version_major": 2,
       "version_minor": 0,
       "model_id": "e4b9a22550184050bbe2b208bd199884"
      }
     },
     "metadata": {},
     "output_type": "display_data"
    },
    {
     "data": {
      "text/plain": [
       "<function __main__.plot_cat_feature(feature)>"
      ]
     },
     "execution_count": 2,
     "metadata": {},
     "output_type": "execute_result"
    }
   ],
   "execution_count": 2
  },
  {
   "metadata": {
    "ExecuteTime": {
     "end_time": "2025-08-28T20:20:16.135565Z",
     "start_time": "2025-08-28T20:20:16.075709Z"
    }
   },
   "cell_type": "code",
   "source": [
    "# Slider for numeric feature vs satisfaction\n",
    "num_slider = widgets.Dropdown(\n",
    "    options=df.select_dtypes(include=np.number).columns.tolist(),\n",
    "    description=\"Numeric:\",\n",
    "    value=\"Age\"\n",
    ")\n",
    "\n",
    "\n",
    "def plot_num_feature(feature):\n",
    "    fig = px.histogram(df, x=feature, color=\"satisfaction\", nbins=30,\n",
    "                       title=f\"Satisfaction distribution by {feature}\")\n",
    "    fig.show()\n",
    "\n",
    "\n",
    "widgets.interact(plot_num_feature, feature=num_slider)\n"
   ],
   "id": "ca48e4e8bfffb70d",
   "outputs": [
    {
     "data": {
      "text/plain": [
       "interactive(children=(Dropdown(description='Numeric:', options=('Age', 'Flight Distance', 'Inflight wifi servi…"
      ],
      "application/vnd.jupyter.widget-view+json": {
       "version_major": 2,
       "version_minor": 0,
       "model_id": "cd7e00cf63ef4dbe8f60e084821b6cbd"
      }
     },
     "metadata": {},
     "output_type": "display_data"
    },
    {
     "data": {
      "text/plain": [
       "<function __main__.plot_num_feature(feature)>"
      ]
     },
     "execution_count": 3,
     "metadata": {},
     "output_type": "execute_result"
    }
   ],
   "execution_count": 3
  },
  {
   "metadata": {
    "ExecuteTime": {
     "end_time": "2025-08-28T20:20:24.707232Z",
     "start_time": "2025-08-28T20:20:23.267250Z"
    }
   },
   "cell_type": "code",
   "source": [
    "# Define features\n",
    "numerical_features = df.select_dtypes(include=['number']).drop(\"satisfaction\", axis=1).columns.tolist()\n",
    "categorical_features = df.select_dtypes(include=['object']).columns.tolist()\n",
    "\n",
    "X = df[numerical_features + categorical_features]\n",
    "y = df[\"satisfaction\"]\n",
    "\n",
    "# Split\n",
    "X_train, X_test, y_train, y_test = train_test_split(X, y, test_size=0.2, random_state=42)\n",
    "\n",
    "# Preprocessing\n",
    "preprocessor = ColumnTransformer(\n",
    "    transformers=[\n",
    "        (\"num\", \"passthrough\", numerical_features),\n",
    "        (\"cat\", OneHotEncoder(handle_unknown=\"ignore\"), categorical_features)\n",
    "    ]\n",
    ")\n",
    "\n",
    "# Use Classifier instead of Regressor (since satisfaction is categorical)\n",
    "model = Pipeline(steps=[\n",
    "    (\"preprocessor\", preprocessor),\n",
    "    (\"classifier\", RandomForestClassifier(n_estimators=100, random_state=42))\n",
    "])\n",
    "\n",
    "# Train\n",
    "model.fit(X_train, y_train)\n",
    "\n",
    "# Evaluate\n",
    "y_pred = model.predict(X_test)\n",
    "print(classification_report(y_test, y_pred))\n",
    "sns.heatmap(confusion_matrix(y_test, y_pred), annot=True, fmt=\"d\", cmap=\"Blues\")\n",
    "plt.show()\n"
   ],
   "id": "6822ab749f5dc139",
   "outputs": [
    {
     "name": "stdout",
     "output_type": "stream",
     "text": [
      "              precision    recall  f1-score   support\n",
      "\n",
      "           0       0.95      0.97      0.96      2890\n",
      "           1       0.97      0.94      0.95      2289\n",
      "\n",
      "    accuracy                           0.96      5179\n",
      "   macro avg       0.96      0.96      0.96      5179\n",
      "weighted avg       0.96      0.96      0.96      5179\n",
      "\n"
     ]
    },
    {
     "data": {
      "text/plain": [
       "<Figure size 640x480 with 2 Axes>"
      ],
      "image/png": "[encoded data removed]"
     },
     "metadata": {},
     "output_type": "display_data"
    }
   ],
   "execution_count": 4
  },
  {
   "metadata": {
    "ExecuteTime": {
     "end_time": "2025-08-28T20:20:42.855280Z",
     "start_time": "2025-08-28T20:20:42.596169Z"
    }
   },
   "cell_type": "code",
   "source": [
    "# Widgets for new passenger input\n",
    "age = widgets.IntSlider(min=10, max=80, step=1, value=35, description=\"Age\")\n",
    "flight_distance = widgets.IntSlider(min=100, max=5000, step=50, value=1200, description=\"Flight Dist\")\n",
    "delay_dep = widgets.IntSlider(min=0, max=600, step=5, value=15, description=\"Dep Delay\")\n",
    "delay_arr = widgets.IntSlider(min=0, max=600, step=5, value=10, description=\"Arr Delay\")\n",
    "\n",
    "customer_type = widgets.Dropdown(options=df[\"Customer Type\"].unique(), description=\"Customer Type\")\n",
    "travel_type = widgets.Dropdown(options=df[\"Type of Travel\"].unique(), description=\"Travel Type\")\n",
    "seat_class = widgets.Dropdown(options=df[\"Class\"].unique(), description=\"Class\")\n",
    "\n",
    "wifi = widgets.IntSlider(min=0, max=5, value=4, description=\"Wifi\")\n",
    "seat = widgets.IntSlider(min=0, max=5, value=5, description=\"Seat Comfort\")\n",
    "food = widgets.IntSlider(min=0, max=5, value=3, description=\"Food\")\n",
    "ent = widgets.IntSlider(min=0, max=5, value=4, description=\"Entertainment\")\n",
    "\n",
    "\n",
    "# Function to predict\n",
    "def predict_passenger(Age, Flight_Dist, Dep_Delay, Arr_Delay, Customer_Type, Travel_Type, Class,\n",
    "                      Wifi, Seat_Comfort, Food, Entertainment):\n",
    "    new_passenger = pd.DataFrame({\n",
    "        \"Age\": [Age],\n",
    "        \"Flight Distance\": [Flight_Dist],\n",
    "        \"Departure Delay in Minutes\": [Dep_Delay],\n",
    "        \"Arrival Delay in Minutes\": [Arr_Delay],\n",
    "        \"Inflight wifi service\": [Wifi],\n",
    "        \"Seat comfort\": [Seat_Comfort],\n",
    "        \"Food and drink\": [Food],\n",
    "        \"Inflight entertainment\": [Entertainment],\n",
    "        \"Customer Type\": [Customer_Type],\n",
    "        \"Type of Travel\": [Travel_Type],\n",
    "        \"Class\": [Class]\n",
    "    })\n",
    "    prediction = model.predict(new_passenger)[0]\n",
    "    result = \"😊 Satisfied\" if prediction == 1 else \"☹️ Dissatisfied\"\n",
    "    print(f\"Prediction: {result}\")\n",
    "\n",
    "\n",
    "# Interactive UI\n",
    "widgets.interact(\n",
    "    predict_passenger,\n",
    "    Age=age, Flight_Dist=flight_distance, Dep_Delay=delay_dep, Arr_Delay=delay_arr,\n",
    "    Customer_Type=customer_type, Travel_Type=travel_type, Class=seat_class,\n",
    "    Wifi=wifi, Seat_Comfort=seat, Food=food, Entertainment=ent\n",
    ")\n"
   ],
   "id": "23e3e49221364977",
   "outputs": [
    {
     "data": {
      "text/plain": [
       "interactive(children=(IntSlider(value=35, description='Age', max=80, min=10), IntSlider(value=1200, descriptio…"
      ],
      "application/vnd.jupyter.widget-view+json": {
       "version_major": 2,
       "version_minor": 0,
       "model_id": "788064778ecf4cb2a7ebb9c67a0fa045"
      }
     },
     "metadata": {},
     "output_type": "display_data"
    },
    {
     "data": {
      "text/plain": [
       "<function __main__.predict_passenger(Age, Flight_Dist, Dep_Delay, Arr_Delay, Customer_Type, Travel_Type, Class, Wifi, Seat_Comfort, Food, Entertainment)>"
      ]
     },
     "execution_count": 5,
     "metadata": {},
     "output_type": "execute_result"
    }
   ],
   "execution_count": 5
  },
  {
   "metadata": {},
   "cell_type": "code",
   "outputs": [],
   "execution_count": null,
   "source": "",
   "id": "4b327c75055419b6"
  }
 ],
 "metadata": {
  "kernelspec": {
   "display_name": "Python 3",
   "language": "python",
   "name": "python3"
  },
  "language_info": {
   "codemirror_mode": {
    "name": "ipython",
    "version": 2
   },
   "file_extension": ".py",
   "mimetype": "text/x-python",
   "name": "python",
   "nbconvert_exporter": "python",
   "pygments_lexer": "ipython2",
   "version": "2.7.6"
  }
 },
 "nbformat": 4,
 "nbformat_minor": 5
}
